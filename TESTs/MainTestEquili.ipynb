{
 "cells": [
  {
   "cell_type": "markdown",
   "metadata": {},
   "source": [
    "This scritp aims to solve the Grad-Shafranov equation modelling the plasma equilibrium in an axisymmetrical (cylindrical) system.\n",
    "It shall constitute the benchmark or miniature code for the actual project behind, which goal is to develop a module for ALYA (BSC-Marenostrum)\n",
    "computing the plasma equilibrium."
   ]
  },
  {
   "cell_type": "code",
   "execution_count": 2,
   "metadata": {},
   "outputs": [
    {
     "data": {
      "text/plain": [
       "'FIXED'"
      ]
     },
     "execution_count": 2,
     "metadata": {},
     "output_type": "execute_result"
    }
   ],
   "source": [
    "import sys\n",
    "sys.path.append('/home/elmanyer/Documents/BSC/MasterThesis/Code/EQUILI_PY/')\n",
    "\n",
    "from GradShafranovCutFEM import *\n",
    "\n",
    "### LOCATION OF FOLDERS\n",
    "folder_MESHES = '/home/elmanyer/Documents/BSC/MasterThesis/Code/EQUILI_PY/MESHES/'   # MESHES\n",
    "folder_CASES = '/home/elmanyer/Documents/BSC/MasterThesis/Code/EQUILI_PY/CASES/'     # CASES\n",
    "\n",
    "### SELECT MESH FOLDER...\n",
    "#MESH = 'TS-UNSTRUCTURED_ULTRACOARSE'\n",
    "#MESH = 'TS-UNSTRUCTURED_COARSE'\n",
    "#MESH = 'TS-UNSTRUCTURED_COARSE-FINE'\n",
    "MESH = 'TS-UNSTRUCTURED_FINE'\n",
    "#MESH = 'TS-UNSTRUCTURED_ULTRAFINE'\n",
    "\n",
    "# ... WITH MESH ELEMENTS:\n",
    "ElementType = 1     # Element type -> 1: TRIANGLE  ; 2: QUADRILATERAL\n",
    "ElementOrder = 1    # Element order -> 1: LINEAR  ; 2: QUADRATIC ; 3: CUBIC ...\n",
    "\n",
    "### SELECT SOLUTION CASE FILE:\n",
    "CASE = 'TS-FIXED-LINEAR'         # FIXED PLASMA BOUNDARY AND LINEAR ANALYTICAL SOLUTION\n",
    "#CASE = 'TS-FIXED-NONLINEAR'     # FIXED PLASMA BOUNDARY AND NONLINEAR ANALYTICAL SOLUTION\n",
    "#CASE = 'TS-FREE-CASE0'          # FREE PLASMA BOUNDARY\n",
    "\n",
    "# SELECT ORDER OF NUMERICAL INTEGRATION QUADRATURE\n",
    "QuadratureOrder = 2\n",
    "\n",
    "##############################################################\n",
    "\n",
    "# DECLARE OBJECT PROBLEM \n",
    "Problem = GradShafranovCutFEM(folder_MESHES+MESH,folder_CASES+CASE,ElementType,ElementOrder,QuadratureOrder)\n",
    "\n",
    "Problem.EQUILI()\n",
    "\n"
   ]
  },
  {
   "cell_type": "code",
   "execution_count": 1,
   "metadata": {},
   "outputs": [],
   "source": [
    "#Problem.PlotMeshClassifiedElements()\n",
    "#Problem.PlotInterfaceNormalVectors()\n",
    "\n",
    "#Problem.PlotError(Problem.PHI_converged)\n",
    "\n",
    "\n"
   ]
  }
 ],
 "metadata": {
  "kernelspec": {
   "display_name": "Python 3",
   "language": "python",
   "name": "python3"
  },
  "language_info": {
   "codemirror_mode": {
    "name": "ipython",
    "version": 3
   },
   "file_extension": ".py",
   "mimetype": "text/x-python",
   "name": "python",
   "nbconvert_exporter": "python",
   "pygments_lexer": "ipython3",
   "version": "3.10.12"
  }
 },
 "nbformat": 4,
 "nbformat_minor": 2
}
