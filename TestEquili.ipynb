{
 "cells": [
  {
   "cell_type": "code",
   "execution_count": 1,
   "metadata": {},
   "outputs": [
    {
     "ename": "TypeError",
     "evalue": "Equili.__init__() takes 5 positional arguments but 9 were given",
     "output_type": "error",
     "traceback": [
      "\u001b[0;31m---------------------------------------------------------------------------\u001b[0m",
      "\u001b[0;31mTypeError\u001b[0m                                 Traceback (most recent call last)",
      "Cell \u001b[0;32mIn [1], line 26\u001b[0m\n\u001b[1;32m     22\u001b[0m \u001b[38;5;66;03m##############################################################\u001b[39;00m\n\u001b[1;32m     23\u001b[0m \n\u001b[1;32m     24\u001b[0m \u001b[38;5;66;03m# DECLARE OBJECT PROBLEM (folder with ALYA files)\u001b[39;00m\n\u001b[1;32m     25\u001b[0m directory \u001b[38;5;241m=\u001b[39m folder_loc \u001b[38;5;241m+\u001b[39m case\n\u001b[0;32m---> 26\u001b[0m Problem \u001b[38;5;241m=\u001b[39m \u001b[43mEquili\u001b[49m\u001b[43m(\u001b[49m\u001b[43mdirectory\u001b[49m\u001b[43m,\u001b[49m\u001b[43mElementType\u001b[49m\u001b[43m,\u001b[49m\u001b[43mElementOrder\u001b[49m\u001b[43m,\u001b[49m\u001b[43mRmax\u001b[49m\u001b[43m,\u001b[49m\u001b[43mRmin\u001b[49m\u001b[43m,\u001b[49m\u001b[43mepsilon\u001b[49m\u001b[43m,\u001b[49m\u001b[43mkappa\u001b[49m\u001b[43m,\u001b[49m\u001b[43mdelta\u001b[49m\u001b[43m)\u001b[49m\n\u001b[1;32m     28\u001b[0m Problem\u001b[38;5;241m.\u001b[39mReadMesh()\n\u001b[1;32m     29\u001b[0m Problem\u001b[38;5;241m.\u001b[39mPlasmaEquilibrium() \n",
      "\u001b[0;31mTypeError\u001b[0m: Equili.__init__() takes 5 positional arguments but 9 were given"
     ]
    }
   ],
   "source": [
    "from Equili import *\n",
    "\n",
    "# LOCATION OF PROBLEM FOLDER\n",
    "folder_loc = '/home/elmanyer/Documents/BSC/MasterThesis/Code/execution/TS-'\n",
    "#case = 'UNSTRUCTURED'\n",
    "#case = 'UNSTRUCTURED_COARSE'\n",
    "#case = 'UNSTRUCTURED_COARSE-FINE'\n",
    "#case = 'UNSTRUCTURED_ULTRACOARSE'\n",
    "case = 'UNSTRUCTURED_ULTRAFINE'\n",
    "\n",
    "# MESH INFORMATION:\n",
    "ElementType = 1     # Element type -> 1: TRIANGLE  ; 2: QUADRILATERAL\n",
    "ElementOrder = 1    # Element order -> 1: LINEAR  ; 2: QUADRATIC ; 3: CUBIC ...\n",
    "\n",
    "# VACUUM VESSEL GEOMETRY (ITER):\n",
    "epsilon = 0.32            # inverse aspect ratio\n",
    "kappa = 1.7               # elongation\n",
    "delta = 0.33              # triangularity\n",
    "Rmax = 8                  # plasma major radius\n",
    "Rmin = 4                  # plasma minor radius\n",
    "\n",
    "##############################################################\n",
    "\n",
    "# DECLARE OBJECT PROBLEM (folder with ALYA files)\n",
    "directory = folder_loc + case\n",
    "Problem = Equili(directory,ElementType,ElementOrder,Rmax,Rmin,epsilon,kappa,delta)\n",
    "\n",
    "Problem.ReadMesh()\n",
    "Problem.PlasmaEquilibrium() "
   ]
  },
  {
   "cell_type": "code",
   "execution_count": null,
   "metadata": {},
   "outputs": [
    {
     "data": {
      "text/plain": [
       "array([  38,   39,   42,   43,   45,   57,   71,   75,   76,   79,   80,\n",
       "         83,   85,   92,   96,  109,  113,  184,  187,  188,  189,  192,\n",
       "        197,  212,  214,  215,  217,  219,  278,  280,  282,  284,  287,\n",
       "        295,  309,  374,  375,  377,  378,  380,  381,  382,  383,  385,\n",
       "        388,  391,  483,  614,  617,  618,  621,  623,  627,  629,  630,\n",
       "        632,  634,  636,  642,  645,  652,  655,  694,  695,  696,  697,\n",
       "        751,  754,  757,  759,  774,  785,  788,  806,  809,  812,  832,\n",
       "        833,  834,  835,  836,  838,  985,  987,  988,  990, 1005, 1006,\n",
       "       1010, 1047, 1069, 1071, 1085])"
      ]
     },
     "execution_count": 6,
     "metadata": {},
     "output_type": "execute_result"
    }
   ],
   "source": [
    "Problem.InterElems"
   ]
  },
  {
   "cell_type": "code",
   "execution_count": null,
   "metadata": {},
   "outputs": [
    {
     "ename": "NameError",
     "evalue": "name 'Problem' is not defined",
     "output_type": "error",
     "traceback": [
      "\u001b[0;31m---------------------------------------------------------------------------\u001b[0m",
      "\u001b[0;31mNameError\u001b[0m                                 Traceback (most recent call last)",
      "Cell \u001b[0;32mIn [1], line 2\u001b[0m\n\u001b[1;32m      1\u001b[0m elem \u001b[38;5;241m=\u001b[39m \u001b[38;5;241m531\u001b[39m\n\u001b[0;32m----> 2\u001b[0m ELEMENT \u001b[38;5;241m=\u001b[39m \u001b[43mProblem\u001b[49m\u001b[38;5;241m.\u001b[39mElements[elem]\n\u001b[1;32m      5\u001b[0m \u001b[38;5;66;03m# 1. MAP THE PHYSICAL INTERFACE ON THE REFERENCE ELEMENT\u001b[39;00m\n\u001b[1;32m      6\u001b[0m XIeint \u001b[38;5;241m=\u001b[39m np\u001b[38;5;241m.\u001b[39mzeros(np\u001b[38;5;241m.\u001b[39mshape(ELEMENT\u001b[38;5;241m.\u001b[39mXeint))\n",
      "\u001b[0;31mNameError\u001b[0m: name 'Problem' is not defined"
     ]
    }
   ],
   "source": [
    "elem = 531\n",
    "ELEMENT = Problem.Elements[elem]\n",
    "\n",
    "\n",
    "# 1. MAP THE PHYSICAL INTERFACE ON THE REFERENCE ELEMENT\n",
    "XIeint = np.zeros(np.shape(ELEMENT.Xeint))\n",
    "for i in range(len(ELEMENT.Xeint[:,0])):\n",
    "    XIeint[i,:] = ELEMENT.InverseMapping(ELEMENT.Xeint[i,:])\n",
    "    \n",
    "# 2. DO TESSELLATION ON REFERENCE ELEMENT\n",
    "XIe = np.array([[1,0], [0,1], [0,0]])\n",
    "XIemod, TemodREF = ELEMENT.Tessellation(Mode=\"REFERENCE\",Xe=XIe,Xeint=XIeint,shortedge=ELEMENT.shortedge)\n",
    "\n",
    "fig, axs = plt.subplots(2, 2, figsize=(12,8))\n",
    "\n",
    "###### FIRST ROW FIGURES: REFERENCE SPACE\n",
    "# PLOT REFERENCE INTERFACE LINEAR APPROXIMATION\n",
    "for i in range(ELEMENT.n):\n",
    "    axs[0,0].plot([XIe[i,0], XIe[(i+1)%ELEMENT.n,0]], \n",
    "            [XIe[i,1], XIe[(i+1)%ELEMENT.n,1]], color='black', linewidth=3)\n",
    "axs[0,0].plot(XIeint[:,0], XIeint[:,1], '.', color='red',markersize=10)\n",
    "axs[0,0].plot(XIeint[:,0], XIeint[:,1],color='red', linewidth=3)\n",
    "d = 0.02\n",
    "for i in range(len(XIemod[:,0])):\n",
    "    axs[0,0].text(XIemod[i,0]+d,XIemod[i,1]+d,str(i),fontsize=15)\n",
    "\n",
    "# PLOT TESSELLATION ON PHYSICAL ELEMENT\n",
    "colorlist = ['blue', 'red', 'green']\n",
    "markerlist = ['^', '<', '>']\n",
    "for i in range(ELEMENT.Nsub):\n",
    "    for j in range(ELEMENT.n):   # plot edges\n",
    "        axs[0,1].plot([XIemod[TemodREF[i,j],0], XIemod[TemodREF[i,int((j+1)%ELEMENT.n)],0]], [XIemod[TemodREF[i,j],1], XIemod[TemodREF[i,int((j+1)%ELEMENT.n)],1]],\n",
    "                 linestyle = '-', color = colorlist[i], linewidth=2 , marker=markerlist[i])\n",
    "# PLOT NODE NUMERATION\n",
    "d = 0.02\n",
    "for i in range(len(XIemod[:,0])):\n",
    "    axs[0,1].text(XIemod[i,0]+d,XIemod[i,1]+d,str(i),fontsize=15)\n",
    "# PLOT MODIFIED REFERENCE GAUSS INTEGRATION NODES\n",
    "for i, subelem in enumerate(ELEMENT.SubElements):\n",
    "    axs[0,1].plot(subelem.XIg2D[:,0],subelem.XIg2D[:,1],'x',color=colorlist[i], markersize = 8)\n",
    "    \n",
    "###### SECOND ROW FIGURES: PHYSICAL SPACE\n",
    "# PLOT PHYSICAL INTERFACE LINEAR APPROXIMATION\n",
    "for i in range(ELEMENT.n):\n",
    "    axs[1,0].plot([ELEMENT.Xe[i,0], ELEMENT.Xe[(i+1)%ELEMENT.n,0]], \n",
    "            [ELEMENT.Xe[i,1], ELEMENT.Xe[(i+1)%ELEMENT.n,1]], color='black', linewidth=3)\n",
    "\n",
    "axs[1,0].plot(ELEMENT.Xeint[:,0], ELEMENT.Xeint[:,1], '.', color='red',markersize=10)\n",
    "axs[1,0].plot(ELEMENT.Xeint[:,0], ELEMENT.Xeint[:,1],color='red', linewidth=3)\n",
    "# PLOT NODE NUMERATION\n",
    "d = 0.005\n",
    "for i in range(len(ELEMENT.Xemod[:,0])):\n",
    "    axs[1,0].text(ELEMENT.Xemod[i,0]+d,ELEMENT.Xemod[i,1]+d,str(i),fontsize=15)\n",
    "\n",
    "# PLOT TESSELLATION ON PHYSICAL ELEMENT\n",
    "colorlist = ['blue', 'red', 'green']\n",
    "markerlist = ['^', '<', '>']\n",
    "for i, subelem in enumerate(ELEMENT.SubElements):\n",
    "    for j in range(subelem.n):   # plot edges\n",
    "        axs[1,1].plot([subelem.Xe[j,0], subelem.Xe[int((j+1)%subelem.n),0]], [subelem.Xe[j,1], subelem.Xe[int((j+1)%subelem.n),1]],\n",
    "                 linestyle = '-', color = colorlist[i], linewidth=2 , marker=markerlist[i])\n",
    "# PLOT MODIFIED PHYSICAL GAUSS INTEGRATION NODES\n",
    "for i, subelem in enumerate(ELEMENT.SubElements):\n",
    "    axs[1,1].plot(subelem.Xg2D[:,0],subelem.Xg2D[:,1],'x',color=colorlist[i], markersize = 8)\n",
    "    \n",
    "plt.show()"
   ]
  }
 ],
 "metadata": {
  "kernelspec": {
   "display_name": "Python 3",
   "language": "python",
   "name": "python3"
  },
  "language_info": {
   "codemirror_mode": {
    "name": "ipython",
    "version": 3
   },
   "file_extension": ".py",
   "mimetype": "text/x-python",
   "name": "python",
   "nbconvert_exporter": "python",
   "pygments_lexer": "ipython3",
   "version": "3.10.12"
  }
 },
 "nbformat": 4,
 "nbformat_minor": 2
}
