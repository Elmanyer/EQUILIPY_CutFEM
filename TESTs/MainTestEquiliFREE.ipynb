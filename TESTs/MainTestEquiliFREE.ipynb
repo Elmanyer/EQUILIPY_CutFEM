{
 "cells": [
  {
   "cell_type": "markdown",
   "metadata": {},
   "source": [
    "This scritp aims to solve the Grad-Shafranov equation modelling the plasma equilibrium in an axisymmetrical (cylindrical) system.\n",
    "It shall constitute the benchmark or miniature code for the actual project behind, which goal is to develop a module for ALYA (BSC-Marenostrum)\n",
    "computing the plasma equilibrium."
   ]
  },
  {
   "cell_type": "code",
   "execution_count": 2,
   "metadata": {},
   "outputs": [
    {
     "name": "stdout",
     "output_type": "stream",
     "text": [
      "READ INPUT FILES...\n",
      "     -> READ MESH DATA FILES...Done!\n",
      "     -> READ EQUILI DATA FILE...Done!\n",
      "Done!\n",
      "INITIALIZATION...\n",
      "     -> INITIALISE LEVEL-SET...Done!\n",
      "     -> INITIALISE ELEMENTS...Done!\n",
      "     -> CLASSIFY ELEMENTS...Done!\n",
      "     -> APPROXIMATE VACUUM VESSEL FIRST WALL...Done!\n",
      "     -> APPROXIMATE PLASMA/VACUUM INTERFACE...Done!\n",
      "     -> COMPUTE NUMERICAL INTEGRATION QUADRATURES...Done!\n",
      "     -> INITIALISE UNKNOWN VECTORS AND COMPUTE INITIAL GUESS...\n",
      "         -> COMPUTE INITIAL GUESS FOR PHI_NORM...Done!\n",
      "         -> COMPUTE INITIAL VACUUM VESSEL FIRST WALL VALUES PHI_B..."
     ]
    },
    {
     "ename": "KeyboardInterrupt",
     "evalue": "",
     "output_type": "error",
     "traceback": [
      "\u001b[0;31m---------------------------------------------------------------------------\u001b[0m",
      "\u001b[0;31mKeyboardInterrupt\u001b[0m                         Traceback (most recent call last)",
      "Cell \u001b[0;32mIn [2], line 33\u001b[0m\n\u001b[1;32m     26\u001b[0m \u001b[38;5;66;03m#CASE = 'TS-FREE-F4E-LINEAR-1W'       # FREE PLASMA BOUNDARY WITH F4E PLASMA REGION GEOMETRY, LINEAR PLASMA CURRENT AND FIRST WALL VACUUM VESSEL GEOMETRY  \u001b[39;00m\n\u001b[1;32m     27\u001b[0m \u001b[38;5;66;03m#CASE = 'TS-FREE-F4E-PROFILES-1W'     # FREE PLASMA BOUNDARY WITH F4E PLASMA REGION GEOMETRY, PLASMA CURRENT MODEL BASED ON PROFILES FOR PRESSURE AND TOROIDAL FIELD AND FIRST WALL VACUUM VESSEL GEOMETRY  \u001b[39;00m\n\u001b[1;32m     28\u001b[0m \n\u001b[1;32m     29\u001b[0m \u001b[38;5;66;03m##############################################################\u001b[39;00m\n\u001b[1;32m     30\u001b[0m \n\u001b[1;32m     31\u001b[0m \u001b[38;5;66;03m# DECLARE OBJECT PROBLEM \u001b[39;00m\n\u001b[1;32m     32\u001b[0m Problem \u001b[38;5;241m=\u001b[39m GradShafranovCutFEM(folder_MESHES\u001b[38;5;241m+\u001b[39mMESH,folder_CASES\u001b[38;5;241m+\u001b[39mCASE,ElementType,ElementOrder)\n\u001b[0;32m---> 33\u001b[0m \u001b[43mProblem\u001b[49m\u001b[38;5;241;43m.\u001b[39;49m\u001b[43mEQUILI\u001b[49m\u001b[43m(\u001b[49m\u001b[43m)\u001b[49m\n",
      "File \u001b[0;32m~/Documents/BSC/MasterThesis/Code/EQUILI_PY/src/GradShafranovCutFEM.py:1502\u001b[0m, in \u001b[0;36mGradShafranovCutFEM.EQUILI\u001b[0;34m(self)\u001b[0m\n\u001b[1;32m   1500\u001b[0m \u001b[38;5;66;03m# INITIALIZATION\u001b[39;00m\n\u001b[1;32m   1501\u001b[0m \u001b[38;5;28mprint\u001b[39m(\u001b[38;5;124m\"\u001b[39m\u001b[38;5;124mINITIALIZATION...\u001b[39m\u001b[38;5;124m\"\u001b[39m)\n\u001b[0;32m-> 1502\u001b[0m \u001b[38;5;28;43mself\u001b[39;49m\u001b[38;5;241;43m.\u001b[39;49m\u001b[43mInitialization\u001b[49m\u001b[43m(\u001b[49m\u001b[43m)\u001b[49m\n\u001b[1;32m   1503\u001b[0m \u001b[38;5;28mprint\u001b[39m(\u001b[38;5;124m'\u001b[39m\u001b[38;5;124mDone!\u001b[39m\u001b[38;5;124m'\u001b[39m)\n\u001b[1;32m   1505\u001b[0m \u001b[38;5;28mself\u001b[39m\u001b[38;5;241m.\u001b[39mPlotSolution(\u001b[38;5;28mself\u001b[39m\u001b[38;5;241m.\u001b[39mPHI_NORM[:,\u001b[38;5;241m0\u001b[39m])  \u001b[38;5;66;03m# PLOT INITIAL SOLUTION\u001b[39;00m\n",
      "File \u001b[0;32m~/Documents/BSC/MasterThesis/Code/EQUILI_PY/src/GradShafranovCutFEM.py:1291\u001b[0m, in \u001b[0;36mGradShafranovCutFEM.Initialization\u001b[0;34m(self)\u001b[0m\n\u001b[1;32m   1289\u001b[0m \u001b[38;5;66;03m# INITIALISE PHI UNKNOWNS\u001b[39;00m\n\u001b[1;32m   1290\u001b[0m \u001b[38;5;28mprint\u001b[39m(\u001b[38;5;124m\"\u001b[39m\u001b[38;5;124m     -> INITIALISE UNKNOWN VECTORS AND COMPUTE INITIAL GUESS...\u001b[39m\u001b[38;5;124m\"\u001b[39m)\n\u001b[0;32m-> 1291\u001b[0m \u001b[38;5;28;43mself\u001b[39;49m\u001b[38;5;241;43m.\u001b[39;49m\u001b[43mInitialisePHI\u001b[49m\u001b[43m(\u001b[49m\u001b[43m)\u001b[49m\n\u001b[1;32m   1292\u001b[0m \u001b[38;5;28mprint\u001b[39m(\u001b[38;5;124m'\u001b[39m\u001b[38;5;124m     Done!\u001b[39m\u001b[38;5;124m'\u001b[39m)\n\u001b[1;32m   1293\u001b[0m \u001b[38;5;28;01mreturn\u001b[39;00m\n",
      "File \u001b[0;32m~/Documents/BSC/MasterThesis/Code/EQUILI_PY/src/GradShafranovCutFEM.py:1249\u001b[0m, in \u001b[0;36mGradShafranovCutFEM.InitialisePHI\u001b[0;34m(self)\u001b[0m\n\u001b[1;32m   1247\u001b[0m \u001b[38;5;66;03m# COMPUTE INITIAL VACUUM VESSEL FIRST WALL VALUES PHI_B \u001b[39;00m\n\u001b[1;32m   1248\u001b[0m \u001b[38;5;28mprint\u001b[39m(\u001b[38;5;124m'\u001b[39m\u001b[38;5;124m         -> COMPUTE INITIAL VACUUM VESSEL FIRST WALL VALUES PHI_B...\u001b[39m\u001b[38;5;124m'\u001b[39m, end\u001b[38;5;241m=\u001b[39m\u001b[38;5;124m\"\u001b[39m\u001b[38;5;124m\"\u001b[39m)\n\u001b[0;32m-> 1249\u001b[0m \u001b[38;5;28mself\u001b[39m\u001b[38;5;241m.\u001b[39mPHI_B[:,\u001b[38;5;241m0\u001b[39m] \u001b[38;5;241m=\u001b[39m \u001b[38;5;28;43mself\u001b[39;49m\u001b[38;5;241;43m.\u001b[39;49m\u001b[43mComputePHI_B\u001b[49m\u001b[43m(\u001b[49m\u001b[43m)\u001b[49m\n\u001b[1;32m   1250\u001b[0m \u001b[38;5;66;03m# ASSIGN INITIAL PHI_B VALUES TO VACUUM VESSEL ELEMENTS\u001b[39;00m\n\u001b[1;32m   1251\u001b[0m \u001b[38;5;28mself\u001b[39m\u001b[38;5;241m.\u001b[39mUpdateElementalPHI_g(\u001b[38;5;124m'\u001b[39m\u001b[38;5;124mFIRST WALL\u001b[39m\u001b[38;5;124m'\u001b[39m)\n",
      "File \u001b[0;32m~/Documents/BSC/MasterThesis/Code/EQUILI_PY/src/GradShafranovCutFEM.py:739\u001b[0m, in \u001b[0;36mGradShafranovCutFEM.ComputePHI_B\u001b[0;34m(self)\u001b[0m\n\u001b[1;32m    737\u001b[0m                             \u001b[38;5;28;01mfor\u001b[39;00m ig \u001b[38;5;129;01min\u001b[39;00m \u001b[38;5;28mrange\u001b[39m(SUBELEM\u001b[38;5;241m.\u001b[39mNg2D):\n\u001b[1;32m    738\u001b[0m                                 \u001b[38;5;28;01mfor\u001b[39;00m l \u001b[38;5;129;01min\u001b[39;00m \u001b[38;5;28mrange\u001b[39m(SUBELEM\u001b[38;5;241m.\u001b[39mn):\n\u001b[0;32m--> 739\u001b[0m                                     PHI_B[k] \u001b[38;5;241m+\u001b[39m\u001b[38;5;241m=\u001b[39m \u001b[38;5;28mself\u001b[39m\u001b[38;5;241m.\u001b[39mmu0 \u001b[38;5;241m*\u001b[39m \u001b[43mGreenFunction\u001b[49m\u001b[43m(\u001b[49m\u001b[43mXnode\u001b[49m\u001b[43m,\u001b[49m\u001b[43m \u001b[49m\u001b[43mSUBELEM\u001b[49m\u001b[38;5;241;43m.\u001b[39;49m\u001b[43mXg2D\u001b[49m\u001b[43m[\u001b[49m\u001b[43mig\u001b[49m\u001b[43m,\u001b[49m\u001b[43m:\u001b[49m\u001b[43m]\u001b[49m\u001b[43m)\u001b[49m\u001b[38;5;241m*\u001b[39m\u001b[38;5;28mself\u001b[39m\u001b[38;5;241m.\u001b[39mJphi(SUBELEM\u001b[38;5;241m.\u001b[39mXg2D[ig,\u001b[38;5;241m0\u001b[39m],SUBELEM\u001b[38;5;241m.\u001b[39mXg2D[ig,\u001b[38;5;241m1\u001b[39m],\n\u001b[1;32m    740\u001b[0m                                                             PHIg[ig])\u001b[38;5;241m*\u001b[39mSUBELEM\u001b[38;5;241m.\u001b[39mN[ig,l]\u001b[38;5;241m*\u001b[39mSUBELEM\u001b[38;5;241m.\u001b[39mdetJg[ig]\u001b[38;5;241m*\u001b[39mSUBELEM\u001b[38;5;241m.\u001b[39mWg2D[ig]                   \n\u001b[1;32m    741\u001b[0m                 k \u001b[38;5;241m+\u001b[39m\u001b[38;5;241m=\u001b[39m \u001b[38;5;241m1\u001b[39m\n\u001b[1;32m    742\u001b[0m \u001b[38;5;28;01mreturn\u001b[39;00m PHI_B\n",
      "File \u001b[0;32m~/Documents/BSC/MasterThesis/Code/EQUILI_PY/src/GradShafranovCutFEM.py:667\u001b[0m, in \u001b[0;36mGradShafranovCutFEM.ComputePHI_B.<locals>.GreenFunction\u001b[0;34m(Xb, Xp)\u001b[0m\n\u001b[1;32m    665\u001b[0m \u001b[38;5;28;01mdef\u001b[39;00m \u001b[38;5;21mGreenFunction\u001b[39m(Xb,Xp):\n\u001b[1;32m    666\u001b[0m     \u001b[38;5;124;03m\"\"\" GREEN FUNCTION CORRESPONDING TO THE TOROIDAL ELLIPTIC OPERATOR \"\"\"\u001b[39;00m\n\u001b[0;32m--> 667\u001b[0m     k\u001b[38;5;241m=\u001b[39m \u001b[43mnp\u001b[49m\u001b[38;5;241;43m.\u001b[39;49m\u001b[43msqrt\u001b[49m\u001b[43m(\u001b[49m\u001b[38;5;241;43m4\u001b[39;49m\u001b[38;5;241;43m*\u001b[39;49m\u001b[43mXb\u001b[49m\u001b[43m[\u001b[49m\u001b[38;5;241;43m0\u001b[39;49m\u001b[43m]\u001b[49m\u001b[38;5;241;43m*\u001b[39;49m\u001b[43mXp\u001b[49m\u001b[43m[\u001b[49m\u001b[38;5;241;43m0\u001b[39;49m\u001b[43m]\u001b[49m\u001b[38;5;241;43m/\u001b[39;49m\u001b[43m(\u001b[49m\u001b[43m(\u001b[49m\u001b[43mXb\u001b[49m\u001b[43m[\u001b[49m\u001b[38;5;241;43m0\u001b[39;49m\u001b[43m]\u001b[49m\u001b[38;5;241;43m+\u001b[39;49m\u001b[43mXp\u001b[49m\u001b[43m[\u001b[49m\u001b[38;5;241;43m0\u001b[39;49m\u001b[43m]\u001b[49m\u001b[43m)\u001b[49m\u001b[38;5;241;43m*\u001b[39;49m\u001b[38;5;241;43m*\u001b[39;49m\u001b[38;5;241;43m2\u001b[39;49m\u001b[43m \u001b[49m\u001b[38;5;241;43m+\u001b[39;49m\u001b[43m \u001b[49m\u001b[43m(\u001b[49m\u001b[43mXp\u001b[49m\u001b[43m[\u001b[49m\u001b[38;5;241;43m1\u001b[39;49m\u001b[43m]\u001b[49m\u001b[38;5;241;43m-\u001b[39;49m\u001b[43mXb\u001b[49m\u001b[43m[\u001b[49m\u001b[38;5;241;43m1\u001b[39;49m\u001b[43m]\u001b[49m\u001b[43m)\u001b[49m\u001b[38;5;241;43m*\u001b[39;49m\u001b[38;5;241;43m*\u001b[39;49m\u001b[38;5;241;43m2\u001b[39;49m\u001b[43m)\u001b[49m\u001b[43m)\u001b[49m\n\u001b[1;32m    668\u001b[0m     Greenfun \u001b[38;5;241m=\u001b[39m (\u001b[38;5;241m1\u001b[39m\u001b[38;5;241m/\u001b[39m(\u001b[38;5;241m2\u001b[39m\u001b[38;5;241m*\u001b[39mnp\u001b[38;5;241m.\u001b[39mpi))\u001b[38;5;241m*\u001b[39m(np\u001b[38;5;241m.\u001b[39msqrt(Xp[\u001b[38;5;241m0\u001b[39m]\u001b[38;5;241m*\u001b[39mXb[\u001b[38;5;241m0\u001b[39m])\u001b[38;5;241m/\u001b[39mk)\u001b[38;5;241m*\u001b[39m((\u001b[38;5;241m2\u001b[39m\u001b[38;5;241m-\u001b[39mk\u001b[38;5;241m*\u001b[39m\u001b[38;5;241m*\u001b[39m\u001b[38;5;241m2\u001b[39m)\u001b[38;5;241m*\u001b[39mellipticK(k)\u001b[38;5;241m-\u001b[39m\u001b[38;5;241m2\u001b[39m\u001b[38;5;241m*\u001b[39mellipticE(k))\n\u001b[1;32m    669\u001b[0m     \u001b[38;5;28;01mreturn\u001b[39;00m Greenfun\n",
      "\u001b[0;31mKeyboardInterrupt\u001b[0m: "
     ]
    }
   ],
   "source": [
    "import sys\n",
    "sys.path.append('/home/elmanyer/Documents/BSC/MasterThesis/Code/EQUILI_PY/')\n",
    "\n",
    "from src.GradShafranovCutFEM import *\n",
    "\n",
    "### LOCATION OF FOLDERS\n",
    "folder_MESHES = '/home/elmanyer/Documents/BSC/MasterThesis/Code/EQUILI_PY/MESHES/'   # MESHES\n",
    "folder_CASES = '/home/elmanyer/Documents/BSC/MasterThesis/Code/EQUILI_PY/CASES/'     # CASES\n",
    "\n",
    "### SELECT MESH FOLDER...\n",
    "#MESH = 'TS-UNSTRUCTURED_ULTRACOARSE'\n",
    "#MESH = 'TS-UNSTRUCTURED_COARSE'\n",
    "#MESH = 'TS-UNSTRUCTURED_COARSE-FINE'\n",
    "#MESH = 'TS-UNSTRUCTURED_FINE'\n",
    "MESH = 'TS-UNSTRUCTURED_FINE_EXTENDED'\n",
    "#MESH = 'TS-UNSTRUCTURED_ULTRAFINE'\n",
    "\n",
    "# ... WITH MESH ELEMENTS:\n",
    "ElementType = 1     # Element type -> 1: TRIANGLE  ; 2: QUADRILATERAL\n",
    "ElementOrder = 1    # Element order -> 1: LINEAR  ; 2: QUADRATIC ; 3: CUBIC ...\n",
    "\n",
    "### SELECT SOLUTION CASE FILE:\n",
    "#CASE = 'TS-FREE-F4E-LINEAR'          # FREE PLASMA BOUNDARY WITH F4E PLASMA REGION GEOMETRY AND LINEAR PLASMA CURRENT\n",
    "#CASE = 'TS-FREE-F4E-NONLINEAR'       # FREE PLASMA BOUNDARY WITH F4E PLASMA REGION GEOMETRY AND NONLINEAR PLASMA CURRENT MODEL\n",
    "CASE = 'TS-FREE-F4E-PROFILES'        # FREE PLASMA BOUNDARY WITH F4E PLASMA REGION GEOMETRY AND PLASMA CURRENT MODEL BASED ON PROFILES FOR PRESSURE AND TOROIDAL FIELD\n",
    "#CASE = 'TS-FREE-F4E-LINEAR-1W'       # FREE PLASMA BOUNDARY WITH F4E PLASMA REGION GEOMETRY, LINEAR PLASMA CURRENT AND FIRST WALL VACUUM VESSEL GEOMETRY  \n",
    "#CASE = 'TS-FREE-F4E-PROFILES-1W'     # FREE PLASMA BOUNDARY WITH F4E PLASMA REGION GEOMETRY, PLASMA CURRENT MODEL BASED ON PROFILES FOR PRESSURE AND TOROIDAL FIELD AND FIRST WALL VACUUM VESSEL GEOMETRY  \n",
    "\n",
    "##############################################################\n",
    "\n",
    "# DECLARE OBJECT PROBLEM \n",
    "Problem = GradShafranovCutFEM(folder_MESHES+MESH,folder_CASES+CASE,ElementType,ElementOrder)\n",
    "Problem.EQUILI()"
   ]
  }
 ],
 "metadata": {
  "kernelspec": {
   "display_name": "Python 3",
   "language": "python",
   "name": "python3"
  },
  "language_info": {
   "codemirror_mode": {
    "name": "ipython",
    "version": 3
   },
   "file_extension": ".py",
   "mimetype": "text/x-python",
   "name": "python",
   "nbconvert_exporter": "python",
   "pygments_lexer": "ipython3",
   "version": "3.10.12"
  }
 },
 "nbformat": 4,
 "nbformat_minor": 2
}
